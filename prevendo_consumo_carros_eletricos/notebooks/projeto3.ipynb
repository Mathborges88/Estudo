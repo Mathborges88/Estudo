{
 "cells": [
  {
   "cell_type": "code",
   "execution_count": 1,
   "id": "cc72db92",
   "metadata": {},
   "outputs": [],
   "source": [
    "#Etapa 1 - Entendimento do problema:\n",
    "#Analise de risco no transporte publico baseando-se no relatório cedido pelo Departamento de \n",
    "#TRansporte de Londres dos incidentes em suas vias.\n",
    "\n",
    "#Responder às 10 perguntas:\n",
    "\n",
    "#1- Qual a quantidade de incidentes por gênero?\n",
    "#2- Qual faixa etária esteve mais envolvida nos incidentes?\n",
    "#3- Qual o percentual de incidentes por tipo de evento (Incident Event Type)?\n",
    "#4- Como foi a evolução de incidentes por mês ao longo do tempo?\n",
    "#5- Quando o incidente foi “Collision Incident” em qual mês houve o maior número de incidentes envolvendo pessoas do sexo feminino?\n",
    "#6- Qual foi a média de incidentes por mês envolvendo crianças (Child)?\n",
    "#7- Considerandoadescriçãodeincidentecomo“Injuriestreatedonscene” (coluna Injury Result Description), qual o total de incidentes de pessoas do sexo masculino e sexo feminino?\n",
    "#8- No ano de 2017 em qual mês houve mais incidentes com idosos (Elderly)?\n",
    "#9- Considerando o Operador qual a distribuição de incidentes ao longo do tempo?\n",
    "#10- Qual o tipo de incidente mais comum com ciclistas?"
   ]
  },
  {
   "cell_type": "code",
   "execution_count": 2,
   "id": "c9c63923",
   "metadata": {},
   "outputs": [],
   "source": [
    "#Importando as principais bibliotecas\n",
    "import pandas as pd\n",
    "import numpy as np\n",
    "import matplotlib.pyplot as plt\n",
    "import seaborn as sns\n",
    "import datetime as dt"
   ]
  },
  {
   "cell_type": "code",
   "execution_count": 3,
   "id": "e7fca32d",
   "metadata": {},
   "outputs": [],
   "source": [
    "#Etapa 2 - Exploração dos dados:"
   ]
  },
  {
   "cell_type": "code",
   "execution_count": 4,
   "id": "7c70772a",
   "metadata": {},
   "outputs": [
    {
     "ename": "FileNotFoundError",
     "evalue": "[Errno 2] No such file or directory: 'tfl_bus_safety.csv'",
     "output_type": "error",
     "traceback": [
      "\u001b[0;31m---------------------------------------------------------------------------\u001b[0m",
      "\u001b[0;31mFileNotFoundError\u001b[0m                         Traceback (most recent call last)",
      "\u001b[0;32m/var/folders/sr/wyrk0mtx7pnct9l8ykft4vsh0000gn/T/ipykernel_28906/2138869857.py\u001b[0m in \u001b[0;36m<module>\u001b[0;34m\u001b[0m\n\u001b[1;32m      1\u001b[0m \u001b[0;31m#lendo o Data Frame\u001b[0m\u001b[0;34m\u001b[0m\u001b[0;34m\u001b[0m\u001b[0m\n\u001b[0;32m----> 2\u001b[0;31m \u001b[0mdf\u001b[0m\u001b[0;34m=\u001b[0m\u001b[0mpd\u001b[0m\u001b[0;34m.\u001b[0m\u001b[0mread_csv\u001b[0m\u001b[0;34m(\u001b[0m\u001b[0;34m'tfl_bus_safety.csv'\u001b[0m\u001b[0;34m)\u001b[0m\u001b[0;34m\u001b[0m\u001b[0;34m\u001b[0m\u001b[0m\n\u001b[0m",
      "\u001b[0;32m~/opt/anaconda3/lib/python3.9/site-packages/pandas/util/_decorators.py\u001b[0m in \u001b[0;36mwrapper\u001b[0;34m(*args, **kwargs)\u001b[0m\n\u001b[1;32m    309\u001b[0m                     \u001b[0mstacklevel\u001b[0m\u001b[0;34m=\u001b[0m\u001b[0mstacklevel\u001b[0m\u001b[0;34m,\u001b[0m\u001b[0;34m\u001b[0m\u001b[0;34m\u001b[0m\u001b[0m\n\u001b[1;32m    310\u001b[0m                 )\n\u001b[0;32m--> 311\u001b[0;31m             \u001b[0;32mreturn\u001b[0m \u001b[0mfunc\u001b[0m\u001b[0;34m(\u001b[0m\u001b[0;34m*\u001b[0m\u001b[0margs\u001b[0m\u001b[0;34m,\u001b[0m \u001b[0;34m**\u001b[0m\u001b[0mkwargs\u001b[0m\u001b[0;34m)\u001b[0m\u001b[0;34m\u001b[0m\u001b[0;34m\u001b[0m\u001b[0m\n\u001b[0m\u001b[1;32m    312\u001b[0m \u001b[0;34m\u001b[0m\u001b[0m\n\u001b[1;32m    313\u001b[0m         \u001b[0;32mreturn\u001b[0m \u001b[0mwrapper\u001b[0m\u001b[0;34m\u001b[0m\u001b[0;34m\u001b[0m\u001b[0m\n",
      "\u001b[0;32m~/opt/anaconda3/lib/python3.9/site-packages/pandas/io/parsers/readers.py\u001b[0m in \u001b[0;36mread_csv\u001b[0;34m(filepath_or_buffer, sep, delimiter, header, names, index_col, usecols, squeeze, prefix, mangle_dupe_cols, dtype, engine, converters, true_values, false_values, skipinitialspace, skiprows, skipfooter, nrows, na_values, keep_default_na, na_filter, verbose, skip_blank_lines, parse_dates, infer_datetime_format, keep_date_col, date_parser, dayfirst, cache_dates, iterator, chunksize, compression, thousands, decimal, lineterminator, quotechar, quoting, doublequote, escapechar, comment, encoding, encoding_errors, dialect, error_bad_lines, warn_bad_lines, on_bad_lines, delim_whitespace, low_memory, memory_map, float_precision, storage_options)\u001b[0m\n\u001b[1;32m    676\u001b[0m     \u001b[0mkwds\u001b[0m\u001b[0;34m.\u001b[0m\u001b[0mupdate\u001b[0m\u001b[0;34m(\u001b[0m\u001b[0mkwds_defaults\u001b[0m\u001b[0;34m)\u001b[0m\u001b[0;34m\u001b[0m\u001b[0;34m\u001b[0m\u001b[0m\n\u001b[1;32m    677\u001b[0m \u001b[0;34m\u001b[0m\u001b[0m\n\u001b[0;32m--> 678\u001b[0;31m     \u001b[0;32mreturn\u001b[0m \u001b[0m_read\u001b[0m\u001b[0;34m(\u001b[0m\u001b[0mfilepath_or_buffer\u001b[0m\u001b[0;34m,\u001b[0m \u001b[0mkwds\u001b[0m\u001b[0;34m)\u001b[0m\u001b[0;34m\u001b[0m\u001b[0;34m\u001b[0m\u001b[0m\n\u001b[0m\u001b[1;32m    679\u001b[0m \u001b[0;34m\u001b[0m\u001b[0m\n\u001b[1;32m    680\u001b[0m \u001b[0;34m\u001b[0m\u001b[0m\n",
      "\u001b[0;32m~/opt/anaconda3/lib/python3.9/site-packages/pandas/io/parsers/readers.py\u001b[0m in \u001b[0;36m_read\u001b[0;34m(filepath_or_buffer, kwds)\u001b[0m\n\u001b[1;32m    573\u001b[0m \u001b[0;34m\u001b[0m\u001b[0m\n\u001b[1;32m    574\u001b[0m     \u001b[0;31m# Create the parser.\u001b[0m\u001b[0;34m\u001b[0m\u001b[0;34m\u001b[0m\u001b[0m\n\u001b[0;32m--> 575\u001b[0;31m     \u001b[0mparser\u001b[0m \u001b[0;34m=\u001b[0m \u001b[0mTextFileReader\u001b[0m\u001b[0;34m(\u001b[0m\u001b[0mfilepath_or_buffer\u001b[0m\u001b[0;34m,\u001b[0m \u001b[0;34m**\u001b[0m\u001b[0mkwds\u001b[0m\u001b[0;34m)\u001b[0m\u001b[0;34m\u001b[0m\u001b[0;34m\u001b[0m\u001b[0m\n\u001b[0m\u001b[1;32m    576\u001b[0m \u001b[0;34m\u001b[0m\u001b[0m\n\u001b[1;32m    577\u001b[0m     \u001b[0;32mif\u001b[0m \u001b[0mchunksize\u001b[0m \u001b[0;32mor\u001b[0m \u001b[0miterator\u001b[0m\u001b[0;34m:\u001b[0m\u001b[0;34m\u001b[0m\u001b[0;34m\u001b[0m\u001b[0m\n",
      "\u001b[0;32m~/opt/anaconda3/lib/python3.9/site-packages/pandas/io/parsers/readers.py\u001b[0m in \u001b[0;36m__init__\u001b[0;34m(self, f, engine, **kwds)\u001b[0m\n\u001b[1;32m    930\u001b[0m \u001b[0;34m\u001b[0m\u001b[0m\n\u001b[1;32m    931\u001b[0m         \u001b[0mself\u001b[0m\u001b[0;34m.\u001b[0m\u001b[0mhandles\u001b[0m\u001b[0;34m:\u001b[0m \u001b[0mIOHandles\u001b[0m \u001b[0;34m|\u001b[0m \u001b[0;32mNone\u001b[0m \u001b[0;34m=\u001b[0m \u001b[0;32mNone\u001b[0m\u001b[0;34m\u001b[0m\u001b[0;34m\u001b[0m\u001b[0m\n\u001b[0;32m--> 932\u001b[0;31m         \u001b[0mself\u001b[0m\u001b[0;34m.\u001b[0m\u001b[0m_engine\u001b[0m \u001b[0;34m=\u001b[0m \u001b[0mself\u001b[0m\u001b[0;34m.\u001b[0m\u001b[0m_make_engine\u001b[0m\u001b[0;34m(\u001b[0m\u001b[0mf\u001b[0m\u001b[0;34m,\u001b[0m \u001b[0mself\u001b[0m\u001b[0;34m.\u001b[0m\u001b[0mengine\u001b[0m\u001b[0;34m)\u001b[0m\u001b[0;34m\u001b[0m\u001b[0;34m\u001b[0m\u001b[0m\n\u001b[0m\u001b[1;32m    933\u001b[0m \u001b[0;34m\u001b[0m\u001b[0m\n\u001b[1;32m    934\u001b[0m     \u001b[0;32mdef\u001b[0m \u001b[0mclose\u001b[0m\u001b[0;34m(\u001b[0m\u001b[0mself\u001b[0m\u001b[0;34m)\u001b[0m\u001b[0;34m:\u001b[0m\u001b[0;34m\u001b[0m\u001b[0;34m\u001b[0m\u001b[0m\n",
      "\u001b[0;32m~/opt/anaconda3/lib/python3.9/site-packages/pandas/io/parsers/readers.py\u001b[0m in \u001b[0;36m_make_engine\u001b[0;34m(self, f, engine)\u001b[0m\n\u001b[1;32m   1214\u001b[0m             \u001b[0;31m# \"Union[str, PathLike[str], ReadCsvBuffer[bytes], ReadCsvBuffer[str]]\"\u001b[0m\u001b[0;34m\u001b[0m\u001b[0;34m\u001b[0m\u001b[0m\n\u001b[1;32m   1215\u001b[0m             \u001b[0;31m# , \"str\", \"bool\", \"Any\", \"Any\", \"Any\", \"Any\", \"Any\"\u001b[0m\u001b[0;34m\u001b[0m\u001b[0;34m\u001b[0m\u001b[0m\n\u001b[0;32m-> 1216\u001b[0;31m             self.handles = get_handle(  # type: ignore[call-overload]\n\u001b[0m\u001b[1;32m   1217\u001b[0m                 \u001b[0mf\u001b[0m\u001b[0;34m,\u001b[0m\u001b[0;34m\u001b[0m\u001b[0;34m\u001b[0m\u001b[0m\n\u001b[1;32m   1218\u001b[0m                 \u001b[0mmode\u001b[0m\u001b[0;34m,\u001b[0m\u001b[0;34m\u001b[0m\u001b[0;34m\u001b[0m\u001b[0m\n",
      "\u001b[0;32m~/opt/anaconda3/lib/python3.9/site-packages/pandas/io/common.py\u001b[0m in \u001b[0;36mget_handle\u001b[0;34m(path_or_buf, mode, encoding, compression, memory_map, is_text, errors, storage_options)\u001b[0m\n\u001b[1;32m    784\u001b[0m         \u001b[0;32mif\u001b[0m \u001b[0mioargs\u001b[0m\u001b[0;34m.\u001b[0m\u001b[0mencoding\u001b[0m \u001b[0;32mand\u001b[0m \u001b[0;34m\"b\"\u001b[0m \u001b[0;32mnot\u001b[0m \u001b[0;32min\u001b[0m \u001b[0mioargs\u001b[0m\u001b[0;34m.\u001b[0m\u001b[0mmode\u001b[0m\u001b[0;34m:\u001b[0m\u001b[0;34m\u001b[0m\u001b[0;34m\u001b[0m\u001b[0m\n\u001b[1;32m    785\u001b[0m             \u001b[0;31m# Encoding\u001b[0m\u001b[0;34m\u001b[0m\u001b[0;34m\u001b[0m\u001b[0m\n\u001b[0;32m--> 786\u001b[0;31m             handle = open(\n\u001b[0m\u001b[1;32m    787\u001b[0m                 \u001b[0mhandle\u001b[0m\u001b[0;34m,\u001b[0m\u001b[0;34m\u001b[0m\u001b[0;34m\u001b[0m\u001b[0m\n\u001b[1;32m    788\u001b[0m                 \u001b[0mioargs\u001b[0m\u001b[0;34m.\u001b[0m\u001b[0mmode\u001b[0m\u001b[0;34m,\u001b[0m\u001b[0;34m\u001b[0m\u001b[0;34m\u001b[0m\u001b[0m\n",
      "\u001b[0;31mFileNotFoundError\u001b[0m: [Errno 2] No such file or directory: 'tfl_bus_safety.csv'"
     ]
    }
   ],
   "source": [
    "#lendo o Data Frame\n",
    "df=pd.read_csv('tfl_bus_safety.csv')"
   ]
  },
  {
   "cell_type": "code",
   "execution_count": null,
   "id": "5bd1f42d",
   "metadata": {},
   "outputs": [],
   "source": [
    "#Amostra\n",
    "df.head()"
   ]
  },
  {
   "cell_type": "code",
   "execution_count": null,
   "id": "9316a41c",
   "metadata": {},
   "outputs": [],
   "source": [
    "df.shape"
   ]
  },
  {
   "cell_type": "code",
   "execution_count": null,
   "id": "16b0ddd4",
   "metadata": {},
   "outputs": [],
   "source": [
    "df.describe()"
   ]
  },
  {
   "cell_type": "code",
   "execution_count": null,
   "id": "9e3d7715",
   "metadata": {},
   "outputs": [],
   "source": [
    "df.dtypes"
   ]
  },
  {
   "cell_type": "code",
   "execution_count": null,
   "id": "79ff7594",
   "metadata": {},
   "outputs": [],
   "source": [
    "df.isna().any()"
   ]
  },
  {
   "cell_type": "code",
   "execution_count": null,
   "id": "276427f0",
   "metadata": {},
   "outputs": [],
   "source": [
    "df.duplicated(keep=False).sum()"
   ]
  },
  {
   "cell_type": "code",
   "execution_count": null,
   "id": "860a3872",
   "metadata": {},
   "outputs": [],
   "source": [
    "df=df.drop_duplicates()"
   ]
  },
  {
   "cell_type": "code",
   "execution_count": null,
   "id": "984d5566",
   "metadata": {},
   "outputs": [],
   "source": [
    "df.shape"
   ]
  },
  {
   "cell_type": "code",
   "execution_count": null,
   "id": "625ce750",
   "metadata": {},
   "outputs": [],
   "source": [
    "df.date_of_incident=pd.to_datetime(df.date_of_incident)"
   ]
  },
  {
   "cell_type": "code",
   "execution_count": null,
   "id": "fd2418d6",
   "metadata": {},
   "outputs": [],
   "source": [
    "df.year=pd.to_datetime(df.year)"
   ]
  },
  {
   "cell_type": "code",
   "execution_count": null,
   "id": "5c69921f",
   "metadata": {},
   "outputs": [],
   "source": [
    "df.dtypes"
   ]
  },
  {
   "cell_type": "code",
   "execution_count": null,
   "id": "5c137a1f",
   "metadata": {},
   "outputs": [],
   "source": [
    "df.nunique()"
   ]
  },
  {
   "cell_type": "code",
   "execution_count": null,
   "id": "92596f2a",
   "metadata": {},
   "outputs": [],
   "source": [
    "for col in df.columns:\n",
    "    valores_unicos = df[col].unique()\n",
    "    print(f\"Valores únicos na coluna '{col}':\")\n",
    "    print(valores_unicos)\n",
    "    print()\n"
   ]
  },
  {
   "cell_type": "code",
   "execution_count": null,
   "id": "87a03f40",
   "metadata": {},
   "outputs": [],
   "source": [
    "df.loc[df['victims_sex'] == 'Unknown']"
   ]
  },
  {
   "cell_type": "code",
   "execution_count": null,
   "id": "677b2c39",
   "metadata": {},
   "outputs": [],
   "source": [
    "df.loc[df['victims_sex'] == 'Unknown'].count()"
   ]
  },
  {
   "cell_type": "code",
   "execution_count": null,
   "id": "d66119c4",
   "metadata": {},
   "outputs": [],
   "source": [
    "df.loc[df['victims_age'] == 'Unknown']"
   ]
  },
  {
   "cell_type": "code",
   "execution_count": null,
   "id": "ffa1b836",
   "metadata": {},
   "outputs": [],
   "source": [
    "df.loc[df['victims_age'] == 'Unknown'].count()"
   ]
  },
  {
   "cell_type": "code",
   "execution_count": null,
   "id": "2d4064bb",
   "metadata": {},
   "outputs": [],
   "source": [
    "#Nesse ponto ja verificamos que nao ha valores ausentes e nao ha mais duplicadas.\n",
    "#Todas as colunas sao categoricas com excecao da coluna 'year' e 'date_of_incidente' que passamos para o formato datetime\n",
    "#O dataset apresenta incidentes de 2015 a 2018"
   ]
  },
  {
   "cell_type": "code",
   "execution_count": null,
   "id": "93e52daf",
   "metadata": {},
   "outputs": [],
   "source": [
    "#1- Qual a quantidade de incidentes por gênero?"
   ]
  },
  {
   "cell_type": "code",
   "execution_count": null,
   "id": "f288f85b",
   "metadata": {},
   "outputs": [],
   "source": [
    "plt.hist(df['victims_sex'], bins='auto', edgecolor='black')\n",
    "plt.xlabel('Generos')\n",
    "plt.ylabel('Frequência')\n",
    "plt.title('Histograma')\n",
    "plt.show()"
   ]
  },
  {
   "cell_type": "code",
   "execution_count": null,
   "id": "ff25544e",
   "metadata": {},
   "outputs": [],
   "source": [
    "#2- Qual faixa etária esteve mais envolvida nos incidentes?"
   ]
  },
  {
   "cell_type": "code",
   "execution_count": null,
   "id": "2ede5370",
   "metadata": {},
   "outputs": [],
   "source": [
    "plt.hist(df['victims_age'], bins='auto', edgecolor='black')\n",
    "plt.xlabel('Faixa Etária')\n",
    "plt.ylabel('Frequência')\n",
    "plt.title('Histograma')\n",
    "plt.show()"
   ]
  },
  {
   "cell_type": "code",
   "execution_count": null,
   "id": "652706d4",
   "metadata": {},
   "outputs": [],
   "source": [
    "#3- Qual o percentual de incidentes por tipo de evento (Incident Event Type)?"
   ]
  },
  {
   "cell_type": "code",
   "execution_count": null,
   "id": "e60f7341",
   "metadata": {},
   "outputs": [],
   "source": [
    "value_counts=df['incident_event_type'].value_counts()\n",
    "porcentagem=value_counts/len(df)*100\n",
    "print(porcentagem)"
   ]
  },
  {
   "cell_type": "code",
   "execution_count": null,
   "id": "d6a8a225",
   "metadata": {},
   "outputs": [],
   "source": [
    "#4- Como foi a evolução de incidentes por mês ao longo do tempo?"
   ]
  },
  {
   "cell_type": "code",
   "execution_count": null,
   "id": "03863391",
   "metadata": {},
   "outputs": [],
   "source": [
    "plt.hist(df['date_of_incident'], bins='auto', edgecolor='black')\n",
    "plt.xlabel('data do incidente')\n",
    "plt.ylabel('Frequência')\n",
    "plt.title('Histograma')\n",
    "plt.xticks(rotation=90)\n",
    "plt.show()"
   ]
  },
  {
   "cell_type": "code",
   "execution_count": null,
   "id": "2a614f87",
   "metadata": {},
   "outputs": [],
   "source": [
    "#5- Quando o incidente foi “Collision Incident” em qual mês houve o maior número de incidentes envolvendo pessoas do sexo feminino?\n",
    "df_filtrado=df[(df['incident_event_type']=='Collision Incident') & (df['victims_sex']=='Female')]\n",
    "df_filtrado1=df_filtrado['date_of_incident'].value_counts()\n",
    "df_filtrado1"
   ]
  },
  {
   "cell_type": "code",
   "execution_count": null,
   "id": "33f6561b",
   "metadata": {},
   "outputs": [],
   "source": [
    "#6- Qual foi a média de incidentes por mês envolvendo crianças (Child)?\n",
    "df_child=df[df['victims_age']=='Child']\n",
    "valuecri=df_child['date_of_incident'].value_counts()\n",
    "valuecri.mean()"
   ]
  },
  {
   "cell_type": "code",
   "execution_count": null,
   "id": "a065522a",
   "metadata": {},
   "outputs": [],
   "source": [
    "#7- Considerando a descrição de incidente como“Injuries treated on scene” (coluna Injury Result Description), qual o total de incidentes de pessoas do sexo masculino e sexo feminino?\n",
    "df[df['injury_result_description']=='Injuries treated on scene']['victims_sex'].value_counts()"
   ]
  },
  {
   "cell_type": "code",
   "execution_count": null,
   "id": "6c903a5c",
   "metadata": {},
   "outputs": [],
   "source": [
    "#8- No ano de 2017 em qual mês houve mais incidentes com idosos (Elderly)?\n",
    "df['ano'] = df['date_of_incident'].dt.year\n",
    "df.head()\n"
   ]
  },
  {
   "cell_type": "code",
   "execution_count": null,
   "id": "1b93695a",
   "metadata": {},
   "outputs": [],
   "source": [
    "df[(df['ano']==2017)&(df['victims_age']=='Elderly')]['date_of_incident'].value_counts()\n"
   ]
  },
  {
   "cell_type": "code",
   "execution_count": null,
   "id": "a0a53890",
   "metadata": {},
   "outputs": [],
   "source": [
    "#9- Considerando o Operador qual a distribuição de incidentes ao longo do tempo?\n",
    "incident_count_by_operator = df.groupby(['operator', df['date_of_incident'].dt.month]).size().unstack()\n",
    "incident_count_by_operator"
   ]
  },
  {
   "cell_type": "code",
   "execution_count": null,
   "id": "8a78e7f6",
   "metadata": {},
   "outputs": [],
   "source": [
    "#10- Qual o tipo de incidente mais comum com ciclistas?\n",
    "df[df['victim_category']== 'Cyclist']['incident_event_type'].value_counts()"
   ]
  },
  {
   "cell_type": "code",
   "execution_count": null,
   "id": "e59653ae",
   "metadata": {},
   "outputs": [],
   "source": [
    "df.head"
   ]
  },
  {
   "cell_type": "code",
   "execution_count": null,
   "id": "18df3a71",
   "metadata": {},
   "outputs": [],
   "source": []
  }
 ],
 "metadata": {
  "kernelspec": {
   "display_name": "Python 3 (ipykernel)",
   "language": "python",
   "name": "python3"
  },
  "language_info": {
   "codemirror_mode": {
    "name": "ipython",
    "version": 3
   },
   "file_extension": ".py",
   "mimetype": "text/x-python",
   "name": "python",
   "nbconvert_exporter": "python",
   "pygments_lexer": "ipython3",
   "version": "3.9.13"
  }
 },
 "nbformat": 4,
 "nbformat_minor": 5
}
